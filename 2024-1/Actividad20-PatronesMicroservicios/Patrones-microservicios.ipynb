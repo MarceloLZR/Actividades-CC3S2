{
 "cells": [
  {
   "cell_type": "markdown",
   "id": "01e99f81-f039-43cb-ad39-b7684d96f2d8",
   "metadata": {},
   "source": [
    "### Actividad: patrones de diseño para microservicios\n",
    "\n",
    "\n",
    "Los patrones de diseño para microservicios que son especialmente útiles en entornos de computación concurrente, paralela y distribuida abordan principalmente cómo descomponer las aplicaciones en servicios más pequeños, independientes y escalables. Estos patrones también se centran en cómo estos servicios pueden comunicarse de manera eficiente, manejar fallos y procesar datos de manera concurrente y paralela. \n",
    "\n",
    "- Service Discovery: En un sistema distribuido con muchos microservicios, es crucial que los servicios puedan encontrarse y comunicarse entre sí. El patrón de Service Discovery permite a los microservicios registrarse en un servicio central y descubrir dinámicamente la ubicación de otros servicios necesarios para completar una solicitud.\n",
    "\n",
    "- Circuit Breaker: Este patrón previene fallos en un microservicio que puede causar fallas en cascada a otros servicios dependientes. Al detectar fallas repetidas en un servicio, el Circuit Breaker corta temporalmente la llamada al servicio fallido, permitiendo que se recupere y evitando que el sistema completo se vea afectado.\n",
    "\n",
    "- Bulkhead: Inspirado en los compartimientos estancos de un barco, este patrón limita las fallas a partes aisladas del sistema para evitar que se propaguen. En el contexto de la computación paralela y distribuida, este patrón puede ser implementado para limitar la cantidad de recursos que un solo cliente o servicio puede consumir, permitiendo así que el sistema mantenga la estabilidad bajo carga.\n",
    "\n",
    "- Sidecar: Este patrón se utiliza para desacoplar aspectos de la infraestructura de los microservicios principales, permitiendo que cada servicio se enfoque en su lógica de negocio. Un proceso sidecar puede manejar funcionalidades como monitoreo, registro, configuración de red, que son esenciales para la computación distribuida y la comunicación entre servicios.\n",
    "\n",
    "- Event Sourcing: En este patrón, los cambios en el estado de la aplicación son registrados como una secuencia de eventos. Esto permite que el sistema sea más resiliente y escalable, facilitando el procesamiento paralelo de eventos y la reconstrucción del estado del sistema a partir de estos eventos si es necesario.\n",
    "  \n",
    "- Sagas: Para manejar transacciones que involucran múltiples microservicios en un entorno distribuido, el patrón de Sagas descompone las transacciones en una serie de operaciones locales en cada servicio. Si una operación falla, se ejecutan compensaciones en los servicios afectados para revertir la transacción.\n",
    "\n",
    "- Edge Server:  actúa como un intermediario entre los clientes externos y tu red de microservicios. Este patrón es particularmente útil para manejar preocupaciones comunes como seguridad, balanceo de carga, autenticación y enrutamiento. El Edge Server puede simplificar la interacción del cliente con el conjunto de microservicios y puede actuar como un punto de control para optimizar las solicitudes antes de que lleguen a los servicios internos.\n",
    "\n",
    "- Reactive Microservices: son diseñados siguiendo los principios de la programación reactiva, lo que significa que son construidos para ser no bloqueantes, orientados a eventos y capaces de manejar un alto grado de procesamiento concurrente y flujos de datos en tiempo real. Esto les permite responder de manera más eficiente a las interacciones con los usuarios o con otros servicios, mejorando el rendimiento y la escalabilidad.\n",
    "\n",
    "- Distributed Tracing:  crucial en arquitecturas de microservicios donde las solicitudes pueden cruzar múltiples servicios antes de completarse. Este patrón ayuda a monitorear y diagnosticar problemas en aplicaciones distribuidas al proporcionar visibilidad en cómo las solicitudes viajan a través de los servicios. \n"
   ]
  },
  {
   "cell_type": "markdown",
   "id": "d7ad901c-f3bd-4ac5-bd7b-a74f41c1334f",
   "metadata": {},
   "source": [
    "#### Ejemplo de implementación de Service Discovery\n",
    "\n",
    "Para este ejemplo, necesitarás tener instalado Flask y requests. Puedes instalarlos mediante pip si no los tienes:\n",
    "\n",
    "pip install Flask requests\n"
   ]
  },
  {
   "cell_type": "markdown",
   "id": "3fc7952a-5a62-46c6-844e-708f9ce03198",
   "metadata": {},
   "source": [
    "**Servicio de descubrimiento de servicios**\n",
    "\n",
    "El servicio de descubrimiento mantendrá un registro de las instancias de microservicios y proporcionará un endpoint para que los clientes descubran y se comuniquen con las instancias disponibles.\n",
    "\n"
   ]
  },
  {
   "cell_type": "code",
   "execution_count": null,
   "id": "02fd1cee-adf0-4982-9a80-b31b7bf29d99",
   "metadata": {},
   "outputs": [],
   "source": [
    "from flask import Flask, jsonify, request\n",
    "import requests\n",
    "\n",
    "app = Flask(__name__)\n",
    "\n",
    "# Registro de microservicios disponibles\n",
    "services = {\n",
    "    'microservice_a': ['http://127.0.0.1:5001', 'http://127.0.0.1:5002', 'http://127.0.0.1:5003']\n",
    "}\n",
    "\n",
    "# Endpoint para registrar/desregistrar servicios\n",
    "@app.route('/register', methods=['POST'])\n",
    "def register_service():\n",
    "    data = request.json\n",
    "    if data['action'] == 'register':\n",
    "        if data['service_name'] not in services:\n",
    "            services[data['service_name']] = []\n",
    "        if data['url'] not in services[data['service_name']]:\n",
    "            services[data['service_name']].append(data['url'])\n",
    "    elif data['action'] == 'unregister':\n",
    "        if data['service_name'] in services and data['url'] in services[data['service_name']]:\n",
    "            services[data['service_name']].remove(data['url'])\n",
    "    return jsonify(services)\n",
    "\n",
    "# Endpoint para obtener una instancia disponible\n",
    "@app.route('/discover/<service_name>')\n",
    "def discover_service(service_name):\n",
    "    if service_name in services and services[service_name]:\n",
    "        # Simple round-robin load balancing\n",
    "        url = services[service_name].pop(0)\n",
    "        services[service_name].append(url)\n",
    "        return jsonify({'url': url})\n",
    "    return jsonify({'error': 'No service available'}), 404\n",
    "\n",
    "if __name__ == '__main__':\n",
    "    app.run(port=5000, debug=True)\n"
   ]
  },
  {
   "cell_type": "markdown",
   "id": "6092fa24-aa41-433c-94b2-944e61e62019",
   "metadata": {},
   "source": [
    "**Microservicios**\n",
    "\n",
    "Aquí tienes un ejemplo simple de microservicios que se registran automáticamente en el servicio de descubrimiento cuando se inician."
   ]
  },
  {
   "cell_type": "code",
   "execution_count": null,
   "id": "99b4f7ea-8c94-4432-b64c-e4685fb99af8",
   "metadata": {},
   "outputs": [],
   "source": [
    "from flask import Flask\n",
    "import requests\n",
    "\n",
    "app = Flask(__name__)\n",
    "\n",
    "service_url = 'http://127.0.0.1:5001'  # Cambia el puerto para cada instancia\n",
    "service_name = 'microservice_a'\n",
    "\n",
    "@app.route('/')\n",
    "def home():\n",
    "    return \"Hola desde Microservicio A en \" + service_url\n",
    "\n",
    "if __name__ == '__main__':\n",
    "    # Registrar en el servicio de descubrimiento\n",
    "    requests.post('http://127.0.0.1:5000/register', json={'action': 'register', 'service_name': service_name, 'url': service_url})\n",
    "    app.run(port=int(service_url.split(':')[-1]))\n"
   ]
  },
  {
   "cell_type": "markdown",
   "id": "faee39f6-08fe-4a61-8e9b-2b93c05e3da4",
   "metadata": {},
   "source": [
    "En este ejemplo, el service discovery está implementado de forma muy básica con balanceo de carga round-robin. Cada instancia de microservicio se registra automáticamente al iniciarse.\n",
    "\n",
    "Cuando un cliente quiere interactuar con un microservicio, primero contacta al servicio de descubrimiento para obtener la URL de una instancia activa. Una vez que tiene la URL, el cliente puede enviar directamente sus solicitudes a esa instancia de microservicio.\n",
    "\n",
    "Este flujo asegura que:\n",
    "\n",
    "- Los microservicios pueden registrarse y desregistrarse de manera dinámica.\n",
    "- Los clientes siempre tienen acceso a instancias activas de microservicios.\n",
    "- Las cargas se distribuyen equitativamente entre todas las instancias disponibles.\n",
    "\n",
    "Este enfoque también ayuda a manejar la escalabilidad, ya que nuevas instancias pueden ser añadidas o retiradas sin afectar a los clientes, siempre y cuando utilicen el servicio de descubrimiento para obtener las URLs activas. Además, se puede mejorar la robustez del sistema implementando chequeos de salud regular en cada microservicio, permitiendo que el servicio de descubrimiento retire automáticamente cualquier instancia que no responda adecuadamente."
   ]
  },
  {
   "cell_type": "markdown",
   "id": "3bc91a6a-d88e-47bf-b563-4d0129bf4966",
   "metadata": {},
   "source": [
    "**Ejecución del código** \n",
    "\n",
    "Servicio de descubrimiento de Servicios:\n",
    "- Guarda el código del servicio de descubrimiento en un archivo, por ejemplo, service_discovery.py.\n",
    "- Ejecuta este archivo en una terminal. Este servicio correrá en el puerto 5000\n",
    "\n",
    "python service_discovery.py\n"
   ]
  },
  {
   "cell_type": "markdown",
   "id": "443b6a71-0694-40d7-8dfe-676515e71e99",
   "metadata": {},
   "source": [
    "Microservicios:\n",
    "Guarda el código del microservicio en otro archivo, por ejemplo, microservice_a.py.\n",
    "\n",
    "- Modifica la variable service_url para cada instancia que quieras correr. Por ejemplo, puedes usar 5001, 5002, etc., para diferentes instancias.\n",
    "- Ejecuta cada instancia en su propia terminal. Asegúrate de cambiar el puerto cada vez que ejecutes una nueva instancia:\n",
    "\n",
    "python microservice_a.py\n",
    "\n",
    "Repite este paso para cada instancia que desees ejecutar, asegurándote de cambiar service_url para que cada una escuche en un puerto diferente."
   ]
  },
  {
   "cell_type": "markdown",
   "id": "51507739-a6ba-4ce0-aefa-3210fb9431fe",
   "metadata": {},
   "source": [
    "#### Testeo de funcionamiento\n",
    "\n",
    "Verifica el registro de servicios:\n",
    "\n",
    "- Puedes verificar qué servicios están registrados enviando una solicitud GET a http://127.0.0.1:5000/register. Puedes usar un navegador o herramientas como Postman o curl para esto.\n",
    "\n",
    "Descubrimiento de servicios:\n",
    "\n",
    "- Para obtener la URL de una instancia activa de microservice_a, puedes enviar una solicitud GET a http://127.0.0.1:5000/discover/microservice_a. De nuevo, puedes usar un navegador o herramientas de API para verificar esto.\n",
    "\n",
    "Envía solicitudes a las instancias del microservicio:\n",
    "\n",
    "- Usando la URL proporcionada por el servicio de descubrimiento, puedes enviar solicitudes directamente a las instancias activas del microservicio. Por ejemplo, si obtienes http://127.0.0.1:5001 como respuesta, puedes acceder a esta dirección en tu navegador para ver la respuesta del microservicio."
   ]
  },
  {
   "cell_type": "markdown",
   "id": "53987aa7-cbb2-4abf-8a16-7f3aa149ec8e",
   "metadata": {},
   "source": [
    "#### Tu participación\n",
    "\n",
    "- ¿Qué es un servicio de descubrimiento en el contexto de microservicios y por qué es crucial para la operación eficiente de una arquitectura basada en microservicios?\n",
    "\n",
    "- Implementa una tercera instancia de microservice_a que escuche en el puerto 5003. Regístrala en el servicio de descubrimiento y verifica que el balanceo de carga funcione correctamente enviando múltiples solicitudes a /discover/microservice_a.\n",
    "  * Modifica microservice_a.py para cambiar el puerto a 5003.\n",
    "  * Ejecuta el servicio y observa cómo se comporta el balanceo de carga.\n",
    "\n",
    "- Simula una falla en una de las instancias del microservicio (por ejemplo, deteniendo el proceso que corre en el puerto 5001) y observa cómo el servicio de descubrimiento maneja la ausencia de la instancia fallida. ¿Continúa dirigiendo solicitudes a la instancia detenida?\n",
    "  * Detén la instancia del microservicio en el puerto 5001.\n",
    "  * Envía solicitudes a /discover/microservice_a y verifica si la instancia detenida sigue siendo ofrecida por el servicio de descubrimiento.\n",
    "\n",
    "- Escribe un script que automáticamente desregistre una instancia del microservicio del servicio de descubrimiento cuando detecte un error o una interrupción en la instancia.\n",
    "    * Implementa una verificación de salud en microservice_a.py.\n",
    "    * Usa una ruta como /health para reportar el estado de salud del servicio.\n",
    "    * Modifica el servicio de descubrimiento para eliminar automáticamente servicios que no pasen la verificación de salud.\n",
    "\n"
   ]
  },
  {
   "cell_type": "code",
   "execution_count": null,
   "id": "29b2b6a2-416a-4413-814e-d47bf2d47b63",
   "metadata": {},
   "outputs": [],
   "source": [
    "## Tus respuestas"
   ]
  },
  {
   "cell_type": "markdown",
   "id": "0bf1c836-4507-48ef-ba5c-fb2356026449",
   "metadata": {},
   "source": [
    "### Ejemplo de implementación del Circuit Breaker\n",
    "Primero, crearemos una clase CircuitBreaker para manejar el estado del circuito y la lógica de transición entre estados (cerrado, abierto y semiabierto)."
   ]
  },
  {
   "cell_type": "code",
   "execution_count": null,
   "id": "564a85d3-9a34-404c-9fbf-e8adad108c33",
   "metadata": {},
   "outputs": [],
   "source": [
    "import time\n",
    "from flask import Flask, jsonify\n",
    "\n",
    "app = Flask(__name__)\n",
    "\n",
    "class CircuitBreaker:\n",
    "    def __init__(self, fail_threshold=3, reset_timeout=10):\n",
    "        self.fail_threshold = fail_threshold\n",
    "        self.reset_timeout = reset_timeout\n",
    "        self.failures = 0\n",
    "        self.last_failure_time = None\n",
    "        self.state = \"closed\"\n",
    "\n",
    "    def call(self, func, *args, **kwargs):\n",
    "        if self.state == \"open\":\n",
    "            if time.time() - self.last_failure_time > self.reset_timeout:\n",
    "                self.state = \"half-open\"\n",
    "            else:\n",
    "                raise Exception(\"Circuit is open. Calls are not allowed.\")\n",
    "        \n",
    "        try:\n",
    "            result = func(*args, **kwargs)\n",
    "            self.reset()\n",
    "            return result\n",
    "        except Exception as e:\n",
    "            self.record_failure()\n",
    "            raise e\n",
    "\n",
    "    def record_failure(self):\n",
    "        self.failures += 1\n",
    "        self.last_failure_time = time.time()\n",
    "        if self.failures >= self.fail_threshold:\n",
    "            self.state = \"open\"\n",
    "\n",
    "    def reset(self):\n",
    "        self.failures = 0\n",
    "        self.state = \"closed\"\n",
    "\n",
    "def unreliable_service():\n",
    "    \"\"\"Simulate a call to an unreliable service.\"\"\"\n",
    "    import random\n",
    "    if random.random() < 0.5:  # 50% chance of failure\n",
    "        raise Exception(\"Service failure.\")\n",
    "    return \"Service response\"\n",
    "\n",
    "breaker = CircuitBreaker()\n",
    "\n",
    "@app.route('/')\n",
    "def index():\n",
    "    try:\n",
    "        # Make a call through the circuit breaker\n",
    "        response = breaker.call(unreliable_service)\n",
    "        return jsonify({'response': response, 'status': 'success'})\n",
    "    except Exception as e:\n",
    "        return jsonify({'error': str(e), 'status': 'service unavailable'})\n",
    "\n",
    "if __name__ == '__main__':\n",
    "    app.run(port=5005)\n"
   ]
  },
  {
   "cell_type": "markdown",
   "id": "e199a736-c76b-43b6-8c62-b1805507d0de",
   "metadata": {},
   "source": [
    "- CircuitBreaker Class: La clase CircuitBreaker gestiona los estados del circuito. Mantiene un conteo de fallos y cambia el estado del circuito a \"abierto\" si el número de fallos consecutivos excede un umbral definido (fail_threshold). Si el circuito está en estado \"abierto\" y ha pasado suficiente tiempo (reset_timeout), el circuito se moverá al estado \"semiabierto\" en el siguiente intento de llamada.\n",
    "\n",
    "- Función de servicio poco confiable: unreliable_service simula un servicio externo que podría fallar aleatoriamente, lo que es ideal para demostrar el comportamiento del circuit breaker.\n",
    "\n",
    "- Flask App: La aplicación Flask expone una ruta que hace una llamada a través del circuit breaker. Si el circuit breaker está \"abierto\" y no se ha movido a \"semiabierto\" o \"cerrado\", se lanzará una excepción y se devolverá un error al cliente.\n"
   ]
  },
  {
   "cell_type": "markdown",
   "id": "cd557347-fc99-4a9f-aaa2-6ebb0734c1d7",
   "metadata": {},
   "source": [
    "**Ejecución y prueba**\n",
    "\n",
    "- Ejecutar el microservicio: Inicia la aplicación Flask ejecutando el script en tu entorno local. Esto iniciará el servidor en el puerto 5005.\n",
    "- Probar el comportamiento: Usa un navegador o herramientas como curl o Postman para hacer solicitudes a http://localhost:5005/. Podrás observar cómo, después de varios fallos simulados, el circuit breaker se activa, rechazando las llamadas hasta que el tiempo de reinicio haya pasado, y luego intenta una llamada para ver si el servicio se ha recuperado.\n",
    "\n",
    "python circuit_breaker_example.py\n",
    "\n",
    "Abre un navegador web y visita http://localhost:5005/ o utiliza una herramienta como Postman o curl para hacer solicitudes al servidor:\n",
    "\n",
    "curl http://localhost:5005/\n",
    "\n",
    "Observa cómo el circuit breaker responde a fallos simulados y cómo maneja el estado abierto y semiabierto."
   ]
  },
  {
   "cell_type": "markdown",
   "id": "f88c4197-d5b2-4662-8de5-ec9a3e7abbd2",
   "metadata": {},
   "source": [
    "#### Tu participación\n",
    "\n",
    "\n",
    "- ¿Qué representa el estado \"abierto\" en un circuit breaker y cómo afecta a las solicitudes subsecuentes en nuestro ejemplo?\n",
    "- Explica el propósito del estado \"semiabierto\" en un circuit breaker. ¿Cómo decide el circuit breaker pasar del estado \"semiabierto\" a \"cerrado\"?\n",
    "- Cambia el valor de fail_threshold a un número mayor o menor y observa cómo esto afecta la frecuencia con la que el circuito se abre. Documenta tus observaciones.\n",
    "- Agrega una funcionalidad que registre cada cambio de estado en el circuit breaker a un archivo de log. Esto es útil para auditar y depurar el comportamiento del sistema.\n",
    "- Modifica la función unreliable_service para que después de un número específico de fallos, garantice un éxito. Esto simulará un servicio que se recupera después de ciertas fallas. Observa cómo el circuit breaker maneja esta recuperación.\n",
    "- Experimenta con diferentes valores para reset_timeout y evalúa cómo el tiempo de inactividad afecta la disponibilidad percibida del servicio. Considera escenarios de alta y baja carga en tus pruebas."
   ]
  },
  {
   "cell_type": "code",
   "execution_count": null,
   "id": "19faa852-b920-4d52-b474-d58029d6940f",
   "metadata": {},
   "outputs": [],
   "source": [
    "## Tus respuestas"
   ]
  },
  {
   "cell_type": "markdown",
   "id": "53b6feaa-76bf-49f9-a3f5-612face4296a",
   "metadata": {},
   "source": [
    "### Ejemplo de implementación del Bulkhead\n",
    "\n",
    "El patrón Bulkhead es utilizado en el diseño de sistemas para aislar fallos y limitar su propagación dentro de un sistema más grande. En el contexto de la programación paralela o distribuida, el patrón Bulkhead puede ser usado para limitar el número de recursos (como hilos o conexiones de red) que una parte del sistema puede consumir, previniendo así que un problema en una parte del sistema afecte al resto.\n",
    "\n",
    "Para ilustrar el patrón Bulkhead en Python, podemos simular un escenario donde diferentes tareas o servicios compiten por recursos limitados. Utilizaremos el módulo concurrent.futures para manejar tareas asincrónicas con un número limitado de trabajadores y  limitar la cantidad de recursos utilizados por cada tarea."
   ]
  },
  {
   "cell_type": "code",
   "execution_count": null,
   "id": "21279a5a-9d6b-433e-90dc-73fd4b589d59",
   "metadata": {},
   "outputs": [],
   "source": [
    "import concurrent.futures\n",
    "import time\n",
    "\n",
    "# Función que simula una tarea que puede fallar o tardar mucho\n",
    "def task(id, duration):\n",
    "    try:\n",
    "        print(f\"Iniciando tarea {id} que tardará {duration} segundos.\")\n",
    "        time.sleep(duration)  # Simula tiempo de procesamiento\n",
    "        print(f\"Tarea {id} completada.\")\n",
    "        return f\"Resultado de la tarea {id}\"\n",
    "    except Exception as e:\n",
    "        return f\"Tarea {id} falló: {str(e)}\"\n",
    "\n",
    "# Función principal que ejecuta tareas utilizando un Bulkhead\n",
    "def main():\n",
    "    # Usar ThreadPoolExecutor como un Bulkhead\n",
    "    # Limitamos el número de tareas simultáneas a 3\n",
    "    with concurrent.futures.ThreadPoolExecutor(max_workers=3) as executor:\n",
    "        # Simulamos la recepción de tareas con diferentes duraciones\n",
    "        tasks = {executor.submit(task, i, duration): i for i, duration in enumerate([2, 3, 5, 1, 4])}\n",
    "        for future in concurrent.futures.as_completed(tasks):\n",
    "            task_id = tasks[future]\n",
    "            try:\n",
    "                result = future.result()\n",
    "                print(f\"Tarea {task_id} completada con resultado: {result}\")\n",
    "            except Exception as e:\n",
    "                print(f\"Tarea {task_id} generó una excepción: {str(e)}\")\n",
    "\n",
    "if __name__ == \"__main__\":\n",
    "    main()\n"
   ]
  },
  {
   "cell_type": "markdown",
   "id": "796990b6-041c-465c-b871-83d7ac2e2424",
   "metadata": {},
   "source": [
    "Explicación del código:\n",
    "\n",
    "- Función de tarea (task): Esta función representa una tarea individual que podría tardar un tiempo variable en completarse, simbolizado por la llamada a time.sleep(). La función imprime mensajes al comenzar y completar la tarea.\n",
    "- Ejecución de Tareas (main): En la función principal, utilizamos ThreadPoolExecutor de concurrent.futures para simular el patrón Bulkhead. Se establece un máximo de tres trabajadores (hilos) para manejar las tareas, limitando así el número de tareas que se ejecutan en paralelo.\n",
    "- Gestión de tareas: Las tareas se agregan al ejecutor y se monitorean hasta su completación. El executor.submit inicia la tarea, y as_completed maneja las tareas conforme van terminando. Cada tarea se identifica y se manejan excepciones potenciales que podrían surgir durante su ejecución."
   ]
  },
  {
   "cell_type": "markdown",
   "id": "fd978217-f764-419c-9a8d-d943ed7c092b",
   "metadata": {},
   "source": [
    "Ejecución del código:\n",
    "\n",
    "python bulkhead_example.py\n",
    "\n",
    "* Asegúrate de usar python3 en lugar de python si tienes múltiples versiones de Python instaladas y python no se refiere a Python 3.x.\n",
    "* Después de ejecutar el script, verás en la terminal la salida del programa, mostrando cuándo cada tarea comienza y termina, y cómo el sistema maneja múltiples tareas simultáneamente limitadas a un máximo de tres en ejecución paralela.\n",
    "* La salida te dará una idea clara de cómo el patrón Bulkhead está limitando el número de tareas concurrentes para prevenir la sobrecarga del sistema y mejorar el manejo de recurso."
   ]
  },
  {
   "cell_type": "markdown",
   "id": "ecb834bf-b01e-4779-8d75-39d1775e25b5",
   "metadata": {},
   "source": [
    "#### Tu participación\n",
    "\n",
    "- Explica cómo el patrón Bulkhead contribuye a la resiliencia de un sistema de microservicios. ¿Cómo previene que fallos en una parte del sistema afecten al resto del sistema?\n",
    "- Compara el patrón Bulkhead con el patrón Circuit Breaker. ¿En qué situaciones es preferible uno sobre el otro?\n",
    "- Discute los posibles riesgos de no implementar el patrón Bulkhead en un sistema que maneja múltiples tareas o solicitudes concurrentes.\n",
    "- ¿Cómo influiría la implementación del patrón Bulkhead en el diseño de una nueva aplicación de software? Considera aspectos como la escalabilidad, mantenibilidad y la gestión de fallos.\n",
    "- Modifica el número de trabajadores (max_workers) en el ThreadPoolExecutor y observa cómo afecta el rendimiento y la capacidad de respuesta del sistema. Documenta los resultados con diferentes configuraciones.\n",
    "- Mejora el manejo de excepciones en el código para asegurarte de que ninguna tarea pueda causar un fallo en el sistema completo. Implementa registros detallados de los errores para facilitar la depuración.\n",
    "- Escribe un script que genere un número muy alto de tareas simultáneas y utiliza el patrón Bulkhead para manejar adecuadamente esta carga. Observa y documenta cómo el sistema maneja la sobrecarga.\n",
    "- Integra funcionalidades de monitorización para rastrear el tiempo de ejecución de cada tarea y el uso de recursos del sistema. Utiliza esta información para ajustar dinámicamente el número de hilos en el ThreadPoolExecutor.\n",
    "- Combina el patrón Bulkhead con el patrón Circuit Breaker para manejar mejor las tareas que fallan repetidamente. Implementa lógica para que, después de cierto número de fallos consecutivos, el sistema deje de intentar ejecutar una tarea fallida durante un período de tiempo."
   ]
  },
  {
   "cell_type": "code",
   "execution_count": null,
   "id": "f63985d7-e6ff-495a-94bd-1f5b29e46c1a",
   "metadata": {},
   "outputs": [],
   "source": [
    "## Tus respuestas"
   ]
  },
  {
   "cell_type": "markdown",
   "id": "dbf0ae03-d73b-4f79-9825-e5c05ba78de6",
   "metadata": {},
   "source": [
    "### Ejemplo de implementación del Sidecar \n",
    "En este ejemplo, tendrás un servicio principal que realiza alguna funcionalidad básica y un sidecar que se encargará de hacer el logging de las actividades del servicio principal."
   ]
  },
  {
   "cell_type": "markdown",
   "id": "2b7ecb89-dc60-4844-a8ab-8e1732ed703f",
   "metadata": {},
   "source": [
    "El servicio principal será una simple aplicación Flask que expone un endpoint API.\n"
   ]
  },
  {
   "cell_type": "code",
   "execution_count": null,
   "id": "d3c4d0df-6cdb-4a9f-9f88-5a28bf48014c",
   "metadata": {},
   "outputs": [],
   "source": [
    "from flask import Flask, jsonify\n",
    "\n",
    "app = Flask(__name__)\n",
    "\n",
    "@app.route('/')\n",
    "def home():\n",
    "    return jsonify({\"message\": \"Hello from the main service!\"})\n",
    "\n",
    "if __name__ == '__main__':\n",
    "    app.run(port=5000)\n"
   ]
  },
  {
   "cell_type": "markdown",
   "id": "3e90dadc-db30-4e11-85a8-d0f03e02237e",
   "metadata": {},
   "source": [
    "El sidecar será responsable de revisar y registrar las solicitudes realizadas al servicio principal. Utilizaremos aiohttp para crear un pequeño servidor web que actúe como un proxy, registrando cada solicitud que pase hacia el servicio principal."
   ]
  },
  {
   "cell_type": "code",
   "execution_count": null,
   "id": "8c1722bd-4fce-4095-8748-a7dc287dc9d7",
   "metadata": {},
   "outputs": [],
   "source": [
    "import aiohttp\n",
    "from aiohttp import web\n",
    "import asyncio\n",
    "\n",
    "async def handler(request):\n",
    "    async with aiohttp.ClientSession() as session:\n",
    "        # Proxear la solicitud al servicio principal\n",
    "        async with session.get('http://localhost:5000') as response:\n",
    "            data = await response.json()\n",
    "            print(f\"Logging request: {data}\")  # Simula el registro de la solicitud\n",
    "            return web.json_response(data)\n",
    "\n",
    "app = web.Application()\n",
    "app.router.add_route('GET', '/', handler)\n",
    "\n",
    "if __name__ == '__main__':\n",
    "    web.run_app(app, port=5001)\n"
   ]
  },
  {
   "cell_type": "markdown",
   "id": "359c84a3-629e-4293-944f-926e1698409d",
   "metadata": {},
   "source": [
    "Explicación del código:\n",
    "\n",
    "- Servicio principal: Se ejecuta en el puerto 5000 y simplemente devuelve un mensaje de bienvenida. Este servicio representa cualquier microservicio en una arquitectura más grande que realiza operaciones específicas del negocio.\n",
    "\n",
    "- Sidecar: Se ejecuta en el puerto 5001 y actúa como un proxy hacia el servicio principal. Captura cada solicitud y realiza el registro (logging) antes de pasar la solicitud al servicio principal. Este ejemplo ilustra cómo un sidecar puede ser usado para offload tareas como logging y monitorización, liberando al servicio principal para que se enfoque en sus funcionalidades principales."
   ]
  },
  {
   "cell_type": "markdown",
   "id": "7e724de6-cf42-4805-92c1-4d24d3048e70",
   "metadata": {},
   "source": [
    "Ejecución y prueba del sistema\n",
    "\n",
    "- Ejecutar el servicio principal: Guarda el código en un archivo, por ejemplo main_service.py, y ejecútalo usando Python.\n",
    "- Ejecutar el Sidecar: Guarda el código del sidecar en otro archivo, por ejemplo sidecar.py, y ejecútalo en un terminal diferente.\n",
    "\n",
    "Para probar que todo está funcionando, puedes hacer una solicitud HTTP al sidecar:\n",
    " curl http://localhost:5001/\n",
    "\n",
    "Deberías ver que el sidecar registra la solicitud y luego pasa la respuesta del servicio principal.\n",
    "\n",
    "**Observación:** Este es un ejemplo muy simplificado del patrón Sidecar. En un entorno real, especialmente en entornos basados en contenedores como Kubernetes, los sidecars pueden ser más complejos y manejar tareas más críticas, aprovechando la proximidad al servicio principal para mejorar la eficiencia y la seguridad."
   ]
  },
  {
   "cell_type": "markdown",
   "id": "6d31986d-37a3-481c-8c77-5e9854dc0e94",
   "metadata": {},
   "source": [
    "#### Tu participación\n",
    "\n",
    "- ¿Qué es el patrón Sidecar y cómo se diferencia de otros patrones arquitectónicos en microservicios?\n",
    "- ¿Cuáles son las ventajas de usar un Sidecar en comparación con incorporar funcionalidades directamente en el servicio principal?\n",
    "- Identifica y describe tres escenarios de uso real donde el patrón Sidecar podría ser especialmente beneficioso en una arquitectura de microservicios.\n",
    "- Discute cómo el patrón Sidecar puede mejorar la resiliencia y la escalabilidad de una aplicación distribuida.\n",
    "- ¿Cómo se implementa típicamente el patrón Sidecar en entornos basados en contenedores como Kubernetes? Describe el proceso y los beneficios.\n",
    "- Basándote en el ejemplo proporcionado, expande el sidecar para que no solo registre las solicitudes, sino también las respuestas del servicio principal. Asegúrate de capturar detalles como el tiempo de respuesta y el código de estado.\n",
    "- Desarrolla un Sidecar que periódicamente verifique la salud del servicio principal y registre el estado. Implementa notificaciones (por ejemplo, a través de un simple print o guardando en un archivo) si el servicio principal no responde adecuadamente.\n",
    "- Modifica el Sidecar para que simule la introducción de fallas en el servicio principal bajo ciertas condiciones (por ejemplo, cada diez solicitudes) y prueba cómo el sistema maneja y se recupera de tales fallas.\n",
    "- Crea un Sidecar que funcione como un proxy avanzado, implementando características como la autenticación y el balanceo de carga entre múltiples instancias del servicio principal.\n",
    "- Implementa un Sidecar que cache las respuestas del servicio principal para mejorar la eficiencia y reducir la carga. El Sidecar debería verificar si una solicitud tiene una respuesta válida en caché y servirla inmediatamente sin redirigir la solicitud al servicio principal."
   ]
  },
  {
   "cell_type": "code",
   "execution_count": null,
   "id": "1d438ad9-abe7-4f78-b114-f8c19b1b1d6c",
   "metadata": {},
   "outputs": [],
   "source": [
    "## Tus respuestas"
   ]
  },
  {
   "cell_type": "markdown",
   "id": "9a381919-42ef-43db-b3be-ddea5cb4fd47",
   "metadata": {},
   "source": [
    "### Ejemplo de implementación de Edge Server\n",
    "\n",
    "Para ilustrar el patrón de servidor perimetral (Edge Server) utilizando Python, podemos utilizar Flask para crear un simple servidor perimetral que actúa como un proxy inverso y también Flask para los microservicios internos. Vamos a simular un escenario donde el servidor perimetral controla el acceso a tres microservicios, protegiéndolos de solicitudes externas no autorizadas y realizando un balanceo de carga simple."
   ]
  },
  {
   "cell_type": "code",
   "execution_count": null,
   "id": "ad0bac65-a3b4-44ab-8dbf-2ed4454804a7",
   "metadata": {},
   "outputs": [],
   "source": [
    "from flask import Flask, request, jsonify, abort\n",
    "import requests\n",
    "\n",
    "app = Flask(__name__)\n",
    "\n",
    "# Configuración de los microservicios internos\n",
    "services = {\n",
    "    'microservice_a': 'http://localhost:5001',\n",
    "    'microservice_b': 'http://localhost:5002',\n",
    "    'microservice_c': 'http://localhost:5003'\n",
    "}\n",
    "\n",
    "# Función de autenticación de ejemplo\n",
    "def authenticate_request(api_key):\n",
    "    # Simular la autenticación con una clave API\n",
    "    return api_key == \"secret\"\n",
    "\n",
    "@app.route('/<service>', methods=['GET', 'POST'])\n",
    "def proxy(service):\n",
    "    if service not in services:\n",
    "        return jsonify({\"error\": \"Service not found\"}), 404\n",
    "\n",
    "    if not authenticate_request(request.headers.get('X-API-Key')):\n",
    "        return jsonify({\"error\": \"Unauthorized\"}), 401\n",
    "\n",
    "    service_url = services[service]\n",
    "    response = requests.request(\n",
    "        method=request.method,\n",
    "        url=f\"{service_url}{request.full_path}\",\n",
    "        headers={key: value for key, value in request.headers if key != 'Host'},\n",
    "        data=request.get_data(),\n",
    "        allow_redirects=False)\n",
    "\n",
    "    return (response.content, response.status_code, response.headers.items())\n",
    "\n",
    "if __name__ == '__main__':\n",
    "    app.run(port=5000)\n"
   ]
  },
  {
   "cell_type": "markdown",
   "id": "82aa613f-834c-4853-86aa-17afd0ddba24",
   "metadata": {},
   "source": [
    "Aquí hay un ejemplo de cómo podría lucir un microservicio:"
   ]
  },
  {
   "cell_type": "code",
   "execution_count": null,
   "id": "f2e6e315-b5cb-47e6-9d52-fb99caa09b8f",
   "metadata": {},
   "outputs": [],
   "source": [
    "from flask import Flask, jsonify\n",
    "\n",
    "app = Flask(__name__)\n",
    "\n",
    "@app.route('/')\n",
    "def home():\n",
    "    return jsonify({\"message\": \"Hello from Microservice A\"})\n",
    "\n",
    "if __name__ == '__main__':\n",
    "    app.run(port=5001)  # Cambia el puerto para B y C\n"
   ]
  },
  {
   "cell_type": "markdown",
   "id": "81fda2dc-dc15-47ca-a46b-2c977f2daa10",
   "metadata": {},
   "source": [
    "Repite el mismo código para Microservice B y C, cambiando el mensaje y el puerto (5002 para B, 5003 para C).\n",
    "\n",
    "Explicación del código\n",
    "\n",
    "- Servidor Perimetral: El servidor perimetral actúa como un proxy inverso, manejando todas las solicitudes entrantes. Solo redirige solicitudes a servicios específicos configurados y autentica las solicitudes utilizando una clave API simple.\n",
    "- Autenticación: Se realiza mediante la función authenticate_request, que comprueba si la clave API proporcionada en la cabecera X-API-Key es válida.\n",
    "- Proxying Requests: Las solicitudes se reenvían al microservicio correspondiente, incluyendo la manipulación de los métodos HTTP, parámetros y cabeceras.\n",
    "- Microservicios internos: Cada microservicio simplemente devuelve un mensaje. Estos servicios están configurados para ejecutarse en diferentes puertos y no son accesibles directamente desde el exterior sin pasar por el servidor perimetral."
   ]
  },
  {
   "cell_type": "markdown",
   "id": "0ed21ae7-b210-4784-94b2-80a1ad94fb49",
   "metadata": {},
   "source": [
    "**Implementación del código**\n",
    "\n",
    "- Guarda el código del servidor perimetral en un archivo, por ejemplo, edge_server.py.\n",
    "- Guarda el código de cada microservicio en archivos separados, por ejemplo, microservice_a.py, microservice_b.py, y microservice_c.py.\n",
    "- Ejecuta el servidor perimetral:\n",
    "  python edge_server.py\n",
    "    Esto iniciará el servidor perimetral en localhost en el puerto 5000.\n",
    "- Abre terminales separadas para cada microservicio.\n",
    "- Navega al directorio donde están guardados los archivos de los microservicios.\n",
    "- Ejecuta cada microservicio en un puerto diferente:\n",
    "\n",
    "  ```\n",
    "  python microservice_a.py  # se ejecutará en el puerto 5001\n",
    "  python microservice_b.py  # se ejecutará en el puerto 5002\n",
    "  python microservice_c.py  # se ejecutará en el puerto 5003\n",
    "  ```"
   ]
  },
  {
   "cell_type": "markdown",
   "id": "2d904f52-187a-44c6-adcc-dfd3a8dc5ce8",
   "metadata": {},
   "source": [
    "**Probar el sistema** \n",
    "\n",
    "* Puedes usar un navegador web o una herramienta como cURL para hacer solicitudes al servidor perimetral. Asegúrate de incluir la clave API correcta en las cabeceras de la solicitud para autenticar:\n",
    "\n",
    " ```\n",
    "   curl -H \"X-API-Key: secret\" http://localhost:5000/microservice_a\n",
    "   curl -H \"X-API-Key: secret\" http://localhost:5000/microservice_b\n",
    "   curl -H \"X-API-Key: secret\" http://localhost:5000/microservice_c\n",
    " ```\n",
    "* Intenta enviar solicitudes sin la clave API o con una clave incorrecta para ver cómo el servidor perimetral maneja la autenticación:\n",
    "\n",
    "  ```\n",
    "    curl http://localhost:5000/microservice_a  # Debería fallar con 401 Unauthorized\n",
    "  ```"
   ]
  },
  {
   "cell_type": "markdown",
   "id": "b3ceab23-ed94-443e-95d9-e8b1410f8681",
   "metadata": {},
   "source": [
    "#### Tu participación\n",
    "\n",
    "- ¿Qué funciones realiza un servidor perimetral (Edge Server) en una arquitectura de microservicios? ¿Por qué es crucial para la seguridad y la gestión del tráfico?\n",
    "- Compara el servidor perimetral con el API Gateway. ¿Cuáles son las similitudes y diferencias clave entre estos dos patrones?\n",
    "- ¿Cómo puede un servidor perimetral ayudar a prevenir ataques comunes como DDoS, SQL Injection, y Cross-Site Scripting (XSS)?\n",
    "- ¿Cómo contribuye un servidor perimetral al escalado de aplicaciones en un entorno de microservicios? Considera escenarios con alto . - --- ¿Cómo puede diseñarse un servidor perimetral para manejar fallas en los microservicios a los que redirige? Considera técnicas como el - \n",
    "- Modifica el servidor perimetral para utilizar JSON Web Tokens (JWT) en lugar de claves API simples para la autenticación. Implementa un endpoint que emita tokens JWT a los clientes después de una autenticación exitosa basada en nombre de usuario y contraseña.\n",
    "- Agrega capacidades de logging avanzadas al servidor perimetral. Asegúrate de registrar todas las solicitudes entrantes, incluyendo detalles como la dirección IP del solicitante, la hora de la solicitud, y la respuesta del microservicio. Configura el logging para que los datos se escriban en un archivo en un formato que facilite el análisis posterior.\n",
    "- Implementa una funcionalidad en el servidor perimetral que permita modificar dinámicamente las rutas o los microservicios a los que se redirigen las solicitudes sin necesidad de reiniciar el servidor. Esto podría involucrar la lectura de un archivo de configuración o consultar una base de datos de rutas en tiempo real.\n",
    "- [Opcional] Escribe un middleware para el servidor perimetral que analice la carga de tráfico y tome decisiones inteligentes sobre cuándo rechazar nuevas conexiones o redirigirlas a otros servidores para balancear la carga.\n",
    "- [Opcional] Desarrolla un script que simule un ataque DDoS al servidor perimetral y luego mejora el servidor perimetral para manejar eficazmente tales ataques, por ejemplo, implementando límites de tasa o desafíos CAPTCHA."
   ]
  },
  {
   "cell_type": "code",
   "execution_count": null,
   "id": "239e47cd-cbb2-4144-b809-179e3936afc7",
   "metadata": {},
   "outputs": [],
   "source": [
    "## Tus respuestas"
   ]
  },
  {
   "cell_type": "markdown",
   "id": "609d1d2a-8351-4ce6-afa1-5b6e4c71d61e",
   "metadata": {},
   "source": [
    "### Ejemplo de implementación de microservicios reactivos\n",
    "\n",
    "Primero, necesitas instalar las bibliotecas necesarias. Si no tienes instalado aiohttp, puedes hacerlo con pip:\n",
    "\n",
    "pip install aiohttp\n",
    "\n",
    "Presentamos un ejemplo de cómo podrías implementar un microservicio utilizando aiohttp para manejar las solicitudes de forma asincrónica:"
   ]
  },
  {
   "cell_type": "code",
   "execution_count": null,
   "id": "6ed627f6-d576-4158-8c97-9a70e674f31b",
   "metadata": {},
   "outputs": [],
   "source": [
    "from aiohttp import web, ClientSession\n",
    "import asyncio\n",
    "\n",
    "async def fetch_data(url):\n",
    "    \"\"\"Función asincrónica para obtener datos de otro servicio.\"\"\"\n",
    "    async with ClientSession() as session:\n",
    "        async with session.get(url) as response:\n",
    "            return await response.text()\n",
    "\n",
    "async def handle_request(request):\n",
    "    \"\"\"Manejador que simula la llamada a otro microservicio.\"\"\"\n",
    "    data_url = \"http://example.com/data\"  # URL del servicio de datos\n",
    "    data = await fetch_data(data_url)\n",
    "    return web.Response(text=f\"Data from other service: {data}\")\n",
    "\n",
    "async def service_health(request):\n",
    "    \"\"\"Endpoint para chequear la salud del servicio.\"\"\"\n",
    "    return web.Response(text=\"Service is up and running!\")\n",
    "\n",
    "app = web.Application()\n",
    "app.add_routes([web.get('/', handle_request),\n",
    "                web.get('/health', service_health)])\n",
    "\n",
    "if __name__ == '__main__':\n",
    "    web.run_app(app, port=8080)\n"
   ]
  },
  {
   "cell_type": "markdown",
   "id": "d8c2dbed-bd54-46b0-b345-647189183968",
   "metadata": {},
   "source": [
    "Descripción del código\n",
    "\n",
    "- fetch_data: Esta función asincrónica realiza solicitudes HTTP a otro servicio. Utiliza aiohttp.ClientSession para manejar las conexiones de manera eficiente y asincrónica.\n",
    "- handle_request: Es un manejador para las solicitudes entrantes que, a su vez, hace una llamada a otro microservicio. La llamada es no bloqueante y espera asincrónicamente por la respuesta.\n",
    "- service_health: Un simple endpoint para verificar la salud del servicio, útil para implementaciones de microservicios que necesitan ser monitoreados y mantenidos.\n",
    "- Se configura una aplicación de aiohttp y se añaden rutas para manejar las solicitudes."
   ]
  },
  {
   "cell_type": "markdown",
   "id": "d6f4f9fc-70b8-4173-833f-4b80fca4e74b",
   "metadata": {},
   "source": [
    "Ejecución del código\n",
    "\n",
    "- Abre una terminal en la carpeta donde guardaste el archivo reactive_microservice.py.\n",
    "- Ejecuta el archivo con Python mediante el siguiente comando:\n",
    "\n",
    "  python reactive_microservice.py\n",
    "\n",
    "Este comando iniciará el servidor web en el puerto 8080.\n",
    "\n",
    "Una vez que el servidor esté en ejecución, puedes probar el microservicio utilizando un navegador o una herramienta como curl. Aquí tienes cómo puedes hacerlo:\n",
    "\n",
    "- Probar el endpoint principal:Abre tu navegador y visita http://localhost:8080/ o usa curl en la terminal:\n",
    "  curl http://localhost:8080/\n",
    "\n",
    "Esto debería ejecutar la función handle_request que a su vez hará una llamada al URL especificado en data_url (asegúrate de que data_url apunte a un servicio válido o simula uno para pruebas).\n",
    "\n",
    "- Probar el endpoint de salud:Puedes verificar si el servicio está funcionando correctamente visitando http://localhost:8080/health o usando curl:\n",
    "\n",
    "    curl http://localhost:8080/health\n",
    "\n",
    "Esto debería devolver el mensaje \"Service is up and running!\"\n",
    "\n",
    "Consideraciones\n",
    "\n",
    "- Asegúrate de que el puerto 8080 esté libre o cambia el puerto en el código si es necesario.\n",
    "- El URL data_url en la función fetch_data debe apuntar a un destino válido que responda a solicitudes HTTP GET, o debes simular uno para pruebas.\n"
   ]
  },
  {
   "cell_type": "markdown",
   "id": "204da358-2488-4c03-843f-c7e6111c7acf",
   "metadata": {},
   "source": [
    "#### Tu participación\n",
    "\n",
    "- ¿Cómo contribuye el modelo asincrónico a la resiliencia y escalabilidad de los microservicios comparado con un modelo sincrónico tradicional?\n",
    "- Explica cómo los microservicios pueden ser diseñados para ser autorreparables y qué estrategias se podrían implementar para lograrlo.\n",
    "- Modifica el microservicio para que haga llamadas paralelas a múltiples servicios en handle_request, utilizando asyncio.gather para combinar los resultados y responder una vez que todas las respuestas estén disponibles.\n",
    "- Implementa un mecanismo de reintento en fetch_data para manejar fallos temporales, donde el servicio intenta nuevamente la solicitud después de un breve retraso."
   ]
  },
  {
   "cell_type": "code",
   "execution_count": null,
   "id": "acb19217-1a28-490b-9127-042e824b9288",
   "metadata": {},
   "outputs": [],
   "source": [
    "## Tus respuestas"
   ]
  },
  {
   "cell_type": "markdown",
   "id": "6ef0c674-a583-49c2-a075-bf8c76ec58c6",
   "metadata": {},
   "source": [
    "### Ejemplo de implementación de distributed tracing \n",
    "\n",
    "Vamos a crear tres microservicios simples que se llamarán entre sí. Cada uno registrará sus acciones junto con un ID de correlación."
   ]
  },
  {
   "cell_type": "code",
   "execution_count": null,
   "id": "a4f36d75-a8e3-4af4-a36d-d523e1d4c4a0",
   "metadata": {},
   "outputs": [],
   "source": [
    "from flask import Flask, request, jsonify\n",
    "import requests\n",
    "import uuid\n",
    "import logging\n",
    "\n",
    "# Configuración de logging\n",
    "logging.basicConfig(level=logging.INFO)\n",
    "\n",
    "app = Flask(__name__)\n",
    "\n",
    "def get_correlation_id():\n",
    "    # Obtener el correlation ID de la cabecera de la solicitud, o generar uno nuevo si no existe\n",
    "    return request.headers.get('X-Correlation-ID', uuid.uuid4().hex)\n",
    "\n",
    "@app.route('/serviceA')\n",
    "def service_a():\n",
    "    correlation_id = get_correlation_id()\n",
    "    logging.info(f\"Service A called with correlation ID: {correlation_id}\")\n",
    "\n",
    "    # Llamada a Service B\n",
    "    headers = {'X-Correlation-ID': correlation_id}\n",
    "    response_b = requests.get(\"http://localhost:5001/serviceB\", headers=headers)\n",
    "    \n",
    "    # Llamada a Service C\n",
    "    response_c = requests.get(\"http://localhost:5002/serviceC\", headers=headers)\n",
    "    \n",
    "    return jsonify({\n",
    "        'serviceB_response': response_b.text, \n",
    "        'serviceC_response': response_c.text\n",
    "    })\n",
    "\n",
    "@app.route('/serviceB')\n",
    "def service_b():\n",
    "    correlation_id = get_correlation_id()\n",
    "    logging.info(f\"Service B called with correlation ID: {correlation_id}\")\n",
    "    return f\"Service B processed with correlation ID: {correlation_id}\"\n",
    "\n",
    "@app.route('/serviceC')\n",
    "def service_c():\n",
    "    correlation_id = get_correlation_id()\n",
    "    logging.info(f\"Service C called with correlation ID: {correlation_id}\")\n",
    "    return f\"Service C processed with correlation ID: {correlation_id}\"\n",
    "\n",
    "if __name__ == '__main__':\n",
    "    # Asumiendo diferentes puertos para simulación de diferentes servicios\n",
    "    import sys\n",
    "    port = 5000 if len(sys.argv) == 1 else int(sys.argv[1])\n",
    "    app.run(port=port)\n"
   ]
  },
  {
   "cell_type": "markdown",
   "id": "af258e6c-707d-4915-8498-72377f68f008",
   "metadata": {},
   "source": [
    "Explicación del código\n",
    "\n",
    "- Utilizamos el módulo logging de Python para registrar los eventos. Cada evento registrará el ID de correlación para rastrear la solicitud a través de los servicios.\n",
    "- En cada servicio, intentamos recuperar el X-Correlation-ID de las cabeceras HTTP. Si no está presente, generamos uno nuevo utilizando uuid.uuid4().hex. Esto asegura que cada cadena de solicitudes tenga un ID único que las trace.\n",
    "- El ServiceA hace llamadas a ServiceB y ServiceC, pasando el X-Correlation-ID en las cabeceras HTTP para mantener la trazabilidad.\n"
   ]
  },
  {
   "cell_type": "markdown",
   "id": "c8b37d59-5f37-40e1-99dc-5b218fc00555",
   "metadata": {},
   "source": [
    "Ejecución y Pruebas\n",
    "\n",
    "- Guarda el código en un archivo, por ejemplo, tracing_example.py.\n",
    "- Ejecuta tres instancias del servidor en diferentes terminales para simular los diferentes servicios:\n",
    "\n",
    "    python tracing_example.py 5000\n",
    "    python tracing_example.py 5001\n",
    "    python tracing_example.py 5002\n",
    "\n",
    "Usa un navegador o una herramienta como curl para llamar al ServiceA y observar las respuestas:\n",
    "\n",
    "    curl http://localhost:5000/serviceA\n",
    "\n"
   ]
  },
  {
   "cell_type": "markdown",
   "id": "148d6338-282c-48eb-b820-3ef3504ed847",
   "metadata": {},
   "source": [
    "Verás en los logs que cada llamada a los servicios incluye el mismo ID de correlación, lo que te permite rastrear cómo se procesa una solicitud a través de diferentes servicios. "
   ]
  },
  {
   "cell_type": "markdown",
   "id": "d9afaafc-63a4-4ac5-babf-7cebb156d9d3",
   "metadata": {},
   "source": [
    "#### Tu participación\n",
    "\n",
    "- ¿Qué es un ID de correlación y cómo facilita el seguimiento distribuido en arquitecturas de microservicios?\n",
    "- Explica cómo la propagación del ID de correlación entre los servicios mejora la capacidad de depuración y monitorización en sistemas distribuidos.\n",
    "- ¿Cuáles son las ventajas de utilizar un sistema centralizado de logging en un entorno de microservicios?\n",
    "- Discute los desafíos de implementar el seguimiento distribuido en un sistema de microservicios que ya está en producción. ¿Qué estrategias podrían mitigar estos desafíos?\n",
    "- ¿Cómo puede impactar el seguimiento distribuido en el rendimiento de un sistema de microservicios y cómo se podría minimizar este impacto?\n",
    "- Modifica el código para incluir más información en los logs, como parámetros específicos de la solicitud o más detalles del estado interno en cada punto de logging. Ejemplo: Registrar los parámetros de entrada en ServiceB y ServiceC.\n",
    "- Agrega código que simule un fallo aleatorio en ServiceC.\n",
    "- Implementa una solución que reintente la solicitud a ServiceC si falla, utilizando el mismo ID de correlación y registra cada intento.\n",
    "- Escribe un script que extraiga logs de un archivo y filtre por ID de correlación. Este script debería ser capaz de mostrar la cadena completa de eventos para una solicitud específica. Ejemplo: Un script Python que lee un archivo de log y muestra todas las entradas relacionadas con un ID de correlación dado.\n",
    "- Agrega manejo de timeouts a las solicitudes HTTP en ServiceA que se hacen a ServiceB y ServiceC.\n",
    "- Modifica el código para registrar la latencia de las solicitudes entre servicios. Registra el tiempo que toma cada servicio para responder y analiza los datos para identificar posibles cuellos de botella."
   ]
  },
  {
   "cell_type": "code",
   "execution_count": null,
   "id": "5067238b-50e0-4cf6-9b4b-c7411c25dfab",
   "metadata": {},
   "outputs": [],
   "source": [
    "## Tus respuestas"
   ]
  }
 ],
 "metadata": {
  "kernelspec": {
   "display_name": "Python 3 (ipykernel)",
   "language": "python",
   "name": "python3"
  },
  "language_info": {
   "codemirror_mode": {
    "name": "ipython",
    "version": 3
   },
   "file_extension": ".py",
   "mimetype": "text/x-python",
   "name": "python",
   "nbconvert_exporter": "python",
   "pygments_lexer": "ipython3",
   "version": "3.8.13"
  }
 },
 "nbformat": 4,
 "nbformat_minor": 5
}
